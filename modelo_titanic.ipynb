{
  "nbformat": 4,
  "nbformat_minor": 0,
  "metadata": {
    "colab": {
      "name": "modelo_titanic.ipynb",
      "provenance": [],
      "toc_visible": true,
      "authorship_tag": "ABX9TyP9xJL8zrsPoOVNRFZjlweB",
      "include_colab_link": true
    },
    "kernelspec": {
      "name": "python3",
      "display_name": "Python 3"
    },
    "language_info": {
      "name": "python"
    }
  },
  "cells": [
    {
      "cell_type": "markdown",
      "metadata": {
        "id": "view-in-github",
        "colab_type": "text"
      },
      "source": [
        "<a href=\"https://colab.research.google.com/github/fabiorisantos/Modelo_Titanic_DIO_Carrefour/blob/main/modelo_titanic.ipynb\" target=\"_parent\"><img src=\"https://colab.research.google.com/assets/colab-badge.svg\" alt=\"Open In Colab\"/></a>"
      ]
    },
    {
      "cell_type": "markdown",
      "metadata": {
        "id": "pmCrV6vx0jGb"
      },
      "source": [
        "**Autor:** Fábio Ribeiro dos Santos\n",
        "\n",
        "**Contato:**[fabio_ribeiro1981@yahoo.com.br](mailto:fabio_ribeiro1981@yahoo.com.br)"
      ]
    },
    {
      "cell_type": "markdown",
      "metadata": {
        "id": "M8AgIyt52IV6"
      },
      "source": [
        "![digital_innovation_one.png](data:image/png;base64,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)"
      ]
    },
    {
      "cell_type": "markdown",
      "metadata": {
        "id": "yb5xkOz92afT"
      },
      "source": [
        "# **Dados do Titanic**"
      ]
    },
    {
      "cell_type": "markdown",
      "metadata": {
        "id": "o0zBxutE2i8S"
      },
      "source": [
        "[https://www.kaggle.com/](https://www.kaggle.com/)"
      ]
    },
    {
      "cell_type": "markdown",
      "metadata": {
        "id": "Nwd8ToxGiI60"
      },
      "source": [
        "# **Pacotes Necessários**"
      ]
    },
    {
      "cell_type": "code",
      "metadata": {
        "id": "3PobMpRxc1VF"
      },
      "source": [
        "import pandas as pd\n",
        "import numpy as np\n",
        "\n",
        "from sklearn.ensemble import RandomForestClassifier\n",
        "from sklearn.model_selection import train_test_split"
      ],
      "execution_count": 10,
      "outputs": []
    },
    {
      "cell_type": "markdown",
      "metadata": {
        "id": "EJUHfxQCimBR"
      },
      "source": [
        "# **Lendo o banco de dados**"
      ]
    },
    {
      "cell_type": "code",
      "metadata": {
        "id": "DJm56HKUdhO4"
      },
      "source": [
        "dados = pd.read_csv('train.csv')"
      ],
      "execution_count": 44,
      "outputs": []
    },
    {
      "cell_type": "code",
      "metadata": {
        "colab": {
          "base_uri": "https://localhost:8080/",
          "height": 552
        },
        "id": "ExM6hikqd3i_",
        "outputId": "a9319e25-d6af-4558-92f9-89babf2c5c69"
      },
      "source": [
        "dados.head()"
      ],
      "execution_count": 45,
      "outputs": [
        {
          "output_type": "execute_result",
          "data": {
            "text/html": [
              "<div>\n",
              "<style scoped>\n",
              "    .dataframe tbody tr th:only-of-type {\n",
              "        vertical-align: middle;\n",
              "    }\n",
              "\n",
              "    .dataframe tbody tr th {\n",
              "        vertical-align: top;\n",
              "    }\n",
              "\n",
              "    .dataframe thead th {\n",
              "        text-align: right;\n",
              "    }\n",
              "</style>\n",
              "<table border=\"1\" class=\"dataframe\">\n",
              "  <thead>\n",
              "    <tr style=\"text-align: right;\">\n",
              "      <th></th>\n",
              "      <th>PassengerId</th>\n",
              "      <th>Survived</th>\n",
              "      <th>Pclass</th>\n",
              "      <th>Name</th>\n",
              "      <th>Sex</th>\n",
              "      <th>Age</th>\n",
              "      <th>SibSp</th>\n",
              "      <th>Parch</th>\n",
              "      <th>Ticket</th>\n",
              "      <th>Fare</th>\n",
              "      <th>Cabin</th>\n",
              "      <th>Embarked</th>\n",
              "    </tr>\n",
              "  </thead>\n",
              "  <tbody>\n",
              "    <tr>\n",
              "      <th>0</th>\n",
              "      <td>1</td>\n",
              "      <td>0</td>\n",
              "      <td>3</td>\n",
              "      <td>Braund, Mr. Owen Harris</td>\n",
              "      <td>male</td>\n",
              "      <td>22.0</td>\n",
              "      <td>1</td>\n",
              "      <td>0</td>\n",
              "      <td>A/5 21171</td>\n",
              "      <td>7.2500</td>\n",
              "      <td>NaN</td>\n",
              "      <td>S</td>\n",
              "    </tr>\n",
              "    <tr>\n",
              "      <th>1</th>\n",
              "      <td>2</td>\n",
              "      <td>1</td>\n",
              "      <td>1</td>\n",
              "      <td>Cumings, Mrs. John Bradley (Florence Briggs Th...</td>\n",
              "      <td>female</td>\n",
              "      <td>38.0</td>\n",
              "      <td>1</td>\n",
              "      <td>0</td>\n",
              "      <td>PC 17599</td>\n",
              "      <td>71.2833</td>\n",
              "      <td>C85</td>\n",
              "      <td>C</td>\n",
              "    </tr>\n",
              "    <tr>\n",
              "      <th>2</th>\n",
              "      <td>3</td>\n",
              "      <td>1</td>\n",
              "      <td>3</td>\n",
              "      <td>Heikkinen, Miss. Laina</td>\n",
              "      <td>female</td>\n",
              "      <td>26.0</td>\n",
              "      <td>0</td>\n",
              "      <td>0</td>\n",
              "      <td>STON/O2. 3101282</td>\n",
              "      <td>7.9250</td>\n",
              "      <td>NaN</td>\n",
              "      <td>S</td>\n",
              "    </tr>\n",
              "    <tr>\n",
              "      <th>3</th>\n",
              "      <td>4</td>\n",
              "      <td>1</td>\n",
              "      <td>1</td>\n",
              "      <td>Futrelle, Mrs. Jacques Heath (Lily May Peel)</td>\n",
              "      <td>female</td>\n",
              "      <td>35.0</td>\n",
              "      <td>1</td>\n",
              "      <td>0</td>\n",
              "      <td>113803</td>\n",
              "      <td>53.1000</td>\n",
              "      <td>C123</td>\n",
              "      <td>S</td>\n",
              "    </tr>\n",
              "    <tr>\n",
              "      <th>4</th>\n",
              "      <td>5</td>\n",
              "      <td>0</td>\n",
              "      <td>3</td>\n",
              "      <td>Allen, Mr. William Henry</td>\n",
              "      <td>male</td>\n",
              "      <td>35.0</td>\n",
              "      <td>0</td>\n",
              "      <td>0</td>\n",
              "      <td>373450</td>\n",
              "      <td>8.0500</td>\n",
              "      <td>NaN</td>\n",
              "      <td>S</td>\n",
              "    </tr>\n",
              "  </tbody>\n",
              "</table>\n",
              "</div>"
            ],
            "text/plain": [
              "   PassengerId  Survived  Pclass  ...     Fare Cabin  Embarked\n",
              "0            1         0       3  ...   7.2500   NaN         S\n",
              "1            2         1       1  ...  71.2833   C85         C\n",
              "2            3         1       3  ...   7.9250   NaN         S\n",
              "3            4         1       1  ...  53.1000  C123         S\n",
              "4            5         0       3  ...   8.0500   NaN         S\n",
              "\n",
              "[5 rows x 12 columns]"
            ]
          },
          "metadata": {
            "tags": []
          },
          "execution_count": 45
        }
      ]
    },
    {
      "cell_type": "code",
      "metadata": {
        "id": "3KjnRcudd8hz"
      },
      "source": [
        "dados = dados.drop (['Name', 'Ticket','Cabin', 'Embarked'], axis= 1)"
      ],
      "execution_count": 46,
      "outputs": []
    },
    {
      "cell_type": "code",
      "metadata": {
        "colab": {
          "base_uri": "https://localhost:8080/",
          "height": 220
        },
        "id": "0zXHJBjUeoXg",
        "outputId": "710fde5d-b3a1-44d0-9e85-93d1453723c1"
      },
      "source": [
        "dados.head()"
      ],
      "execution_count": 47,
      "outputs": [
        {
          "output_type": "execute_result",
          "data": {
            "text/html": [
              "<div>\n",
              "<style scoped>\n",
              "    .dataframe tbody tr th:only-of-type {\n",
              "        vertical-align: middle;\n",
              "    }\n",
              "\n",
              "    .dataframe tbody tr th {\n",
              "        vertical-align: top;\n",
              "    }\n",
              "\n",
              "    .dataframe thead th {\n",
              "        text-align: right;\n",
              "    }\n",
              "</style>\n",
              "<table border=\"1\" class=\"dataframe\">\n",
              "  <thead>\n",
              "    <tr style=\"text-align: right;\">\n",
              "      <th></th>\n",
              "      <th>PassengerId</th>\n",
              "      <th>Survived</th>\n",
              "      <th>Pclass</th>\n",
              "      <th>Sex</th>\n",
              "      <th>Age</th>\n",
              "      <th>SibSp</th>\n",
              "      <th>Parch</th>\n",
              "      <th>Fare</th>\n",
              "    </tr>\n",
              "  </thead>\n",
              "  <tbody>\n",
              "    <tr>\n",
              "      <th>0</th>\n",
              "      <td>1</td>\n",
              "      <td>0</td>\n",
              "      <td>3</td>\n",
              "      <td>male</td>\n",
              "      <td>22.0</td>\n",
              "      <td>1</td>\n",
              "      <td>0</td>\n",
              "      <td>7.2500</td>\n",
              "    </tr>\n",
              "    <tr>\n",
              "      <th>1</th>\n",
              "      <td>2</td>\n",
              "      <td>1</td>\n",
              "      <td>1</td>\n",
              "      <td>female</td>\n",
              "      <td>38.0</td>\n",
              "      <td>1</td>\n",
              "      <td>0</td>\n",
              "      <td>71.2833</td>\n",
              "    </tr>\n",
              "    <tr>\n",
              "      <th>2</th>\n",
              "      <td>3</td>\n",
              "      <td>1</td>\n",
              "      <td>3</td>\n",
              "      <td>female</td>\n",
              "      <td>26.0</td>\n",
              "      <td>0</td>\n",
              "      <td>0</td>\n",
              "      <td>7.9250</td>\n",
              "    </tr>\n",
              "    <tr>\n",
              "      <th>3</th>\n",
              "      <td>4</td>\n",
              "      <td>1</td>\n",
              "      <td>1</td>\n",
              "      <td>female</td>\n",
              "      <td>35.0</td>\n",
              "      <td>1</td>\n",
              "      <td>0</td>\n",
              "      <td>53.1000</td>\n",
              "    </tr>\n",
              "    <tr>\n",
              "      <th>4</th>\n",
              "      <td>5</td>\n",
              "      <td>0</td>\n",
              "      <td>3</td>\n",
              "      <td>male</td>\n",
              "      <td>35.0</td>\n",
              "      <td>0</td>\n",
              "      <td>0</td>\n",
              "      <td>8.0500</td>\n",
              "    </tr>\n",
              "  </tbody>\n",
              "</table>\n",
              "</div>"
            ],
            "text/plain": [
              "   PassengerId  Survived  Pclass     Sex   Age  SibSp  Parch     Fare\n",
              "0            1         0       3    male  22.0      1      0   7.2500\n",
              "1            2         1       1  female  38.0      1      0  71.2833\n",
              "2            3         1       3  female  26.0      0      0   7.9250\n",
              "3            4         1       1  female  35.0      1      0  53.1000\n",
              "4            5         0       3    male  35.0      0      0   8.0500"
            ]
          },
          "metadata": {
            "tags": []
          },
          "execution_count": 47
        }
      ]
    },
    {
      "cell_type": "markdown",
      "metadata": {
        "id": "faKgLIQyiznG"
      },
      "source": [
        "# **Editando Chave e Variável de Resposta**"
      ]
    },
    {
      "cell_type": "code",
      "metadata": {
        "id": "GgXN_zYBfHRg"
      },
      "source": [
        "dados = dados.set_index ( [ 'PassengerId' ] )\n",
        "dados = dados.rename ( columns = { 'Survived' : 'target' } , inplace = False )"
      ],
      "execution_count": 48,
      "outputs": []
    },
    {
      "cell_type": "code",
      "metadata": {
        "colab": {
          "base_uri": "https://localhost:8080/",
          "height": 253
        },
        "id": "Y5qRXR8SmMcs",
        "outputId": "f434ebbd-d746-4913-f2ac-afb8368826da"
      },
      "source": [
        "dados.head()"
      ],
      "execution_count": 49,
      "outputs": [
        {
          "output_type": "execute_result",
          "data": {
            "text/html": [
              "<div>\n",
              "<style scoped>\n",
              "    .dataframe tbody tr th:only-of-type {\n",
              "        vertical-align: middle;\n",
              "    }\n",
              "\n",
              "    .dataframe tbody tr th {\n",
              "        vertical-align: top;\n",
              "    }\n",
              "\n",
              "    .dataframe thead th {\n",
              "        text-align: right;\n",
              "    }\n",
              "</style>\n",
              "<table border=\"1\" class=\"dataframe\">\n",
              "  <thead>\n",
              "    <tr style=\"text-align: right;\">\n",
              "      <th></th>\n",
              "      <th>target</th>\n",
              "      <th>Pclass</th>\n",
              "      <th>Sex</th>\n",
              "      <th>Age</th>\n",
              "      <th>SibSp</th>\n",
              "      <th>Parch</th>\n",
              "      <th>Fare</th>\n",
              "    </tr>\n",
              "    <tr>\n",
              "      <th>PassengerId</th>\n",
              "      <th></th>\n",
              "      <th></th>\n",
              "      <th></th>\n",
              "      <th></th>\n",
              "      <th></th>\n",
              "      <th></th>\n",
              "      <th></th>\n",
              "    </tr>\n",
              "  </thead>\n",
              "  <tbody>\n",
              "    <tr>\n",
              "      <th>1</th>\n",
              "      <td>0</td>\n",
              "      <td>3</td>\n",
              "      <td>male</td>\n",
              "      <td>22.0</td>\n",
              "      <td>1</td>\n",
              "      <td>0</td>\n",
              "      <td>7.2500</td>\n",
              "    </tr>\n",
              "    <tr>\n",
              "      <th>2</th>\n",
              "      <td>1</td>\n",
              "      <td>1</td>\n",
              "      <td>female</td>\n",
              "      <td>38.0</td>\n",
              "      <td>1</td>\n",
              "      <td>0</td>\n",
              "      <td>71.2833</td>\n",
              "    </tr>\n",
              "    <tr>\n",
              "      <th>3</th>\n",
              "      <td>1</td>\n",
              "      <td>3</td>\n",
              "      <td>female</td>\n",
              "      <td>26.0</td>\n",
              "      <td>0</td>\n",
              "      <td>0</td>\n",
              "      <td>7.9250</td>\n",
              "    </tr>\n",
              "    <tr>\n",
              "      <th>4</th>\n",
              "      <td>1</td>\n",
              "      <td>1</td>\n",
              "      <td>female</td>\n",
              "      <td>35.0</td>\n",
              "      <td>1</td>\n",
              "      <td>0</td>\n",
              "      <td>53.1000</td>\n",
              "    </tr>\n",
              "    <tr>\n",
              "      <th>5</th>\n",
              "      <td>0</td>\n",
              "      <td>3</td>\n",
              "      <td>male</td>\n",
              "      <td>35.0</td>\n",
              "      <td>0</td>\n",
              "      <td>0</td>\n",
              "      <td>8.0500</td>\n",
              "    </tr>\n",
              "  </tbody>\n",
              "</table>\n",
              "</div>"
            ],
            "text/plain": [
              "             target  Pclass     Sex   Age  SibSp  Parch     Fare\n",
              "PassengerId                                                     \n",
              "1                 0       3    male  22.0      1      0   7.2500\n",
              "2                 1       1  female  38.0      1      0  71.2833\n",
              "3                 1       3  female  26.0      0      0   7.9250\n",
              "4                 1       1  female  35.0      1      0  53.1000\n",
              "5                 0       3    male  35.0      0      0   8.0500"
            ]
          },
          "metadata": {
            "tags": []
          },
          "execution_count": 49
        }
      ]
    },
    {
      "cell_type": "markdown",
      "metadata": {
        "id": "jWamUYYEmSWu"
      },
      "source": [
        "# **Descritiva**"
      ]
    },
    {
      "cell_type": "code",
      "metadata": {
        "colab": {
          "base_uri": "https://localhost:8080/",
          "height": 320
        },
        "id": "eJ_JrwhamPcH",
        "outputId": "8bacc9d6-80fc-4658-994c-bf12ce34e50d"
      },
      "source": [
        "dados.describe()"
      ],
      "execution_count": 50,
      "outputs": [
        {
          "output_type": "execute_result",
          "data": {
            "text/html": [
              "<div>\n",
              "<style scoped>\n",
              "    .dataframe tbody tr th:only-of-type {\n",
              "        vertical-align: middle;\n",
              "    }\n",
              "\n",
              "    .dataframe tbody tr th {\n",
              "        vertical-align: top;\n",
              "    }\n",
              "\n",
              "    .dataframe thead th {\n",
              "        text-align: right;\n",
              "    }\n",
              "</style>\n",
              "<table border=\"1\" class=\"dataframe\">\n",
              "  <thead>\n",
              "    <tr style=\"text-align: right;\">\n",
              "      <th></th>\n",
              "      <th>target</th>\n",
              "      <th>Pclass</th>\n",
              "      <th>Age</th>\n",
              "      <th>SibSp</th>\n",
              "      <th>Parch</th>\n",
              "      <th>Fare</th>\n",
              "    </tr>\n",
              "  </thead>\n",
              "  <tbody>\n",
              "    <tr>\n",
              "      <th>count</th>\n",
              "      <td>891.000000</td>\n",
              "      <td>891.000000</td>\n",
              "      <td>714.000000</td>\n",
              "      <td>891.000000</td>\n",
              "      <td>891.000000</td>\n",
              "      <td>891.000000</td>\n",
              "    </tr>\n",
              "    <tr>\n",
              "      <th>mean</th>\n",
              "      <td>0.383838</td>\n",
              "      <td>2.308642</td>\n",
              "      <td>29.699118</td>\n",
              "      <td>0.523008</td>\n",
              "      <td>0.381594</td>\n",
              "      <td>32.204208</td>\n",
              "    </tr>\n",
              "    <tr>\n",
              "      <th>std</th>\n",
              "      <td>0.486592</td>\n",
              "      <td>0.836071</td>\n",
              "      <td>14.526497</td>\n",
              "      <td>1.102743</td>\n",
              "      <td>0.806057</td>\n",
              "      <td>49.693429</td>\n",
              "    </tr>\n",
              "    <tr>\n",
              "      <th>min</th>\n",
              "      <td>0.000000</td>\n",
              "      <td>1.000000</td>\n",
              "      <td>0.420000</td>\n",
              "      <td>0.000000</td>\n",
              "      <td>0.000000</td>\n",
              "      <td>0.000000</td>\n",
              "    </tr>\n",
              "    <tr>\n",
              "      <th>25%</th>\n",
              "      <td>0.000000</td>\n",
              "      <td>2.000000</td>\n",
              "      <td>20.125000</td>\n",
              "      <td>0.000000</td>\n",
              "      <td>0.000000</td>\n",
              "      <td>7.910400</td>\n",
              "    </tr>\n",
              "    <tr>\n",
              "      <th>50%</th>\n",
              "      <td>0.000000</td>\n",
              "      <td>3.000000</td>\n",
              "      <td>28.000000</td>\n",
              "      <td>0.000000</td>\n",
              "      <td>0.000000</td>\n",
              "      <td>14.454200</td>\n",
              "    </tr>\n",
              "    <tr>\n",
              "      <th>75%</th>\n",
              "      <td>1.000000</td>\n",
              "      <td>3.000000</td>\n",
              "      <td>38.000000</td>\n",
              "      <td>1.000000</td>\n",
              "      <td>0.000000</td>\n",
              "      <td>31.000000</td>\n",
              "    </tr>\n",
              "    <tr>\n",
              "      <th>max</th>\n",
              "      <td>1.000000</td>\n",
              "      <td>3.000000</td>\n",
              "      <td>80.000000</td>\n",
              "      <td>8.000000</td>\n",
              "      <td>6.000000</td>\n",
              "      <td>512.329200</td>\n",
              "    </tr>\n",
              "  </tbody>\n",
              "</table>\n",
              "</div>"
            ],
            "text/plain": [
              "           target      Pclass         Age       SibSp       Parch        Fare\n",
              "count  891.000000  891.000000  714.000000  891.000000  891.000000  891.000000\n",
              "mean     0.383838    2.308642   29.699118    0.523008    0.381594   32.204208\n",
              "std      0.486592    0.836071   14.526497    1.102743    0.806057   49.693429\n",
              "min      0.000000    1.000000    0.420000    0.000000    0.000000    0.000000\n",
              "25%      0.000000    2.000000   20.125000    0.000000    0.000000    7.910400\n",
              "50%      0.000000    3.000000   28.000000    0.000000    0.000000   14.454200\n",
              "75%      1.000000    3.000000   38.000000    1.000000    0.000000   31.000000\n",
              "max      1.000000    3.000000   80.000000    8.000000    6.000000  512.329200"
            ]
          },
          "metadata": {
            "tags": []
          },
          "execution_count": 50
        }
      ]
    },
    {
      "cell_type": "code",
      "metadata": {
        "colab": {
          "base_uri": "https://localhost:8080/",
          "height": 186
        },
        "id": "faBdBhKLmii3",
        "outputId": "0b9f53eb-5565-4445-9c06-d6372917c1e2"
      },
      "source": [
        "dados.describe(include=['O'])"
      ],
      "execution_count": 51,
      "outputs": [
        {
          "output_type": "execute_result",
          "data": {
            "text/html": [
              "<div>\n",
              "<style scoped>\n",
              "    .dataframe tbody tr th:only-of-type {\n",
              "        vertical-align: middle;\n",
              "    }\n",
              "\n",
              "    .dataframe tbody tr th {\n",
              "        vertical-align: top;\n",
              "    }\n",
              "\n",
              "    .dataframe thead th {\n",
              "        text-align: right;\n",
              "    }\n",
              "</style>\n",
              "<table border=\"1\" class=\"dataframe\">\n",
              "  <thead>\n",
              "    <tr style=\"text-align: right;\">\n",
              "      <th></th>\n",
              "      <th>Sex</th>\n",
              "    </tr>\n",
              "  </thead>\n",
              "  <tbody>\n",
              "    <tr>\n",
              "      <th>count</th>\n",
              "      <td>891</td>\n",
              "    </tr>\n",
              "    <tr>\n",
              "      <th>unique</th>\n",
              "      <td>2</td>\n",
              "    </tr>\n",
              "    <tr>\n",
              "      <th>top</th>\n",
              "      <td>male</td>\n",
              "    </tr>\n",
              "    <tr>\n",
              "      <th>freq</th>\n",
              "      <td>577</td>\n",
              "    </tr>\n",
              "  </tbody>\n",
              "</table>\n",
              "</div>"
            ],
            "text/plain": [
              "         Sex\n",
              "count    891\n",
              "unique     2\n",
              "top     male\n",
              "freq     577"
            ]
          },
          "metadata": {
            "tags": []
          },
          "execution_count": 51
        }
      ]
    },
    {
      "cell_type": "markdown",
      "metadata": {
        "id": "NAx6C14qonz9"
      },
      "source": [
        "# **Transformação dos dados**"
      ]
    },
    {
      "cell_type": "code",
      "metadata": {
        "id": "dqB3UBJnnEo-"
      },
      "source": [
        "dados['Sex_F'] = np.where(dados['Sex'] == 'female',1,0)\n",
        "\n",
        "dados['Pclass_1'] = np.where(dados['Pclass'] == 1,1,0)\n",
        "dados['Pclass_2'] = np.where(dados['Pclass'] == 2,1,0)\n",
        "dados['Pclass_3'] = np.where(dados['Pclass'] == 3,1,0)"
      ],
      "execution_count": 53,
      "outputs": []
    },
    {
      "cell_type": "code",
      "metadata": {
        "id": "X8Gw4dejrqL5"
      },
      "source": [
        "dados = dados.drop(['Pclass','Sex'], axis=1)"
      ],
      "execution_count": 54,
      "outputs": []
    },
    {
      "cell_type": "code",
      "metadata": {
        "colab": {
          "base_uri": "https://localhost:8080/",
          "height": 253
        },
        "id": "COKXwXUHr68_",
        "outputId": "d0b9b008-2c19-4aed-bd76-70cb3c867f98"
      },
      "source": [
        "dados.head()"
      ],
      "execution_count": 55,
      "outputs": [
        {
          "output_type": "execute_result",
          "data": {
            "text/html": [
              "<div>\n",
              "<style scoped>\n",
              "    .dataframe tbody tr th:only-of-type {\n",
              "        vertical-align: middle;\n",
              "    }\n",
              "\n",
              "    .dataframe tbody tr th {\n",
              "        vertical-align: top;\n",
              "    }\n",
              "\n",
              "    .dataframe thead th {\n",
              "        text-align: right;\n",
              "    }\n",
              "</style>\n",
              "<table border=\"1\" class=\"dataframe\">\n",
              "  <thead>\n",
              "    <tr style=\"text-align: right;\">\n",
              "      <th></th>\n",
              "      <th>target</th>\n",
              "      <th>Age</th>\n",
              "      <th>SibSp</th>\n",
              "      <th>Parch</th>\n",
              "      <th>Fare</th>\n",
              "      <th>Sex_F</th>\n",
              "      <th>Pclass_1</th>\n",
              "      <th>Pclass_2</th>\n",
              "      <th>Pclass_3</th>\n",
              "    </tr>\n",
              "    <tr>\n",
              "      <th>PassengerId</th>\n",
              "      <th></th>\n",
              "      <th></th>\n",
              "      <th></th>\n",
              "      <th></th>\n",
              "      <th></th>\n",
              "      <th></th>\n",
              "      <th></th>\n",
              "      <th></th>\n",
              "      <th></th>\n",
              "    </tr>\n",
              "  </thead>\n",
              "  <tbody>\n",
              "    <tr>\n",
              "      <th>1</th>\n",
              "      <td>0</td>\n",
              "      <td>22.0</td>\n",
              "      <td>1</td>\n",
              "      <td>0</td>\n",
              "      <td>7.2500</td>\n",
              "      <td>0</td>\n",
              "      <td>0</td>\n",
              "      <td>0</td>\n",
              "      <td>1</td>\n",
              "    </tr>\n",
              "    <tr>\n",
              "      <th>2</th>\n",
              "      <td>1</td>\n",
              "      <td>38.0</td>\n",
              "      <td>1</td>\n",
              "      <td>0</td>\n",
              "      <td>71.2833</td>\n",
              "      <td>1</td>\n",
              "      <td>1</td>\n",
              "      <td>0</td>\n",
              "      <td>0</td>\n",
              "    </tr>\n",
              "    <tr>\n",
              "      <th>3</th>\n",
              "      <td>1</td>\n",
              "      <td>26.0</td>\n",
              "      <td>0</td>\n",
              "      <td>0</td>\n",
              "      <td>7.9250</td>\n",
              "      <td>1</td>\n",
              "      <td>0</td>\n",
              "      <td>0</td>\n",
              "      <td>1</td>\n",
              "    </tr>\n",
              "    <tr>\n",
              "      <th>4</th>\n",
              "      <td>1</td>\n",
              "      <td>35.0</td>\n",
              "      <td>1</td>\n",
              "      <td>0</td>\n",
              "      <td>53.1000</td>\n",
              "      <td>1</td>\n",
              "      <td>1</td>\n",
              "      <td>0</td>\n",
              "      <td>0</td>\n",
              "    </tr>\n",
              "    <tr>\n",
              "      <th>5</th>\n",
              "      <td>0</td>\n",
              "      <td>35.0</td>\n",
              "      <td>0</td>\n",
              "      <td>0</td>\n",
              "      <td>8.0500</td>\n",
              "      <td>0</td>\n",
              "      <td>0</td>\n",
              "      <td>0</td>\n",
              "      <td>1</td>\n",
              "    </tr>\n",
              "  </tbody>\n",
              "</table>\n",
              "</div>"
            ],
            "text/plain": [
              "             target   Age  SibSp  Parch  ...  Sex_F  Pclass_1  Pclass_2  Pclass_3\n",
              "PassengerId                              ...                                     \n",
              "1                 0  22.0      1      0  ...      0         0         0         1\n",
              "2                 1  38.0      1      0  ...      1         1         0         0\n",
              "3                 1  26.0      0      0  ...      1         0         0         1\n",
              "4                 1  35.0      1      0  ...      1         1         0         0\n",
              "5                 0  35.0      0      0  ...      0         0         0         1\n",
              "\n",
              "[5 rows x 9 columns]"
            ]
          },
          "metadata": {
            "tags": []
          },
          "execution_count": 55
        }
      ]
    },
    {
      "cell_type": "code",
      "metadata": {
        "colab": {
          "base_uri": "https://localhost:8080/"
        },
        "id": "bcFKWu8cr_ti",
        "outputId": "bf40c0ba-eadc-4b4f-f539-5b67377b6de5"
      },
      "source": [
        "dados.isnull().sum()"
      ],
      "execution_count": 56,
      "outputs": [
        {
          "output_type": "execute_result",
          "data": {
            "text/plain": [
              "target        0\n",
              "Age         177\n",
              "SibSp         0\n",
              "Parch         0\n",
              "Fare          0\n",
              "Sex_F         0\n",
              "Pclass_1      0\n",
              "Pclass_2      0\n",
              "Pclass_3      0\n",
              "dtype: int64"
            ]
          },
          "metadata": {
            "tags": []
          },
          "execution_count": 56
        }
      ]
    },
    {
      "cell_type": "code",
      "metadata": {
        "id": "m561wJjtsudP"
      },
      "source": [
        "dados.fillna(0, inplace=True)"
      ],
      "execution_count": 57,
      "outputs": []
    },
    {
      "cell_type": "code",
      "metadata": {
        "colab": {
          "base_uri": "https://localhost:8080/"
        },
        "id": "mIuLQIkNt51-",
        "outputId": "623fa497-a3d8-4333-8e4b-8196cc89ada0"
      },
      "source": [
        "dados.isnull().sum()"
      ],
      "execution_count": 58,
      "outputs": [
        {
          "output_type": "execute_result",
          "data": {
            "text/plain": [
              "target      0\n",
              "Age         0\n",
              "SibSp       0\n",
              "Parch       0\n",
              "Fare        0\n",
              "Sex_F       0\n",
              "Pclass_1    0\n",
              "Pclass_2    0\n",
              "Pclass_3    0\n",
              "dtype: int64"
            ]
          },
          "metadata": {
            "tags": []
          },
          "execution_count": 58
        }
      ]
    },
    {
      "cell_type": "markdown",
      "metadata": {
        "id": "5OCYKoLptdmb"
      },
      "source": [
        "# **Amostragem**"
      ]
    },
    {
      "cell_type": "code",
      "metadata": {
        "colab": {
          "base_uri": "https://localhost:8080/"
        },
        "id": "Km_sRXvJs8G9",
        "outputId": "e53e7a23-95c5-44a1-80ca-4ac222110d28"
      },
      "source": [
        "x_train,x_test,y_train,y_test=train_test_split(dados.drop(['target'],axis=1),\n",
        "                                               dados['target'],\n",
        "                                               test_size=0.3,\n",
        "                                               random_state=1234)\n",
        "({'treino': x_train.shape},{'teste': x_test.shape})"
      ],
      "execution_count": 63,
      "outputs": [
        {
          "output_type": "execute_result",
          "data": {
            "text/plain": [
              "({'treino': (623, 8)}, {'teste': (268, 8)})"
            ]
          },
          "metadata": {
            "tags": []
          },
          "execution_count": 63
        }
      ]
    },
    {
      "cell_type": "markdown",
      "metadata": {
        "id": "LA44zqpDwrig"
      },
      "source": [
        "# **Modelo**"
      ]
    },
    {
      "cell_type": "code",
      "metadata": {
        "colab": {
          "base_uri": "https://localhost:8080/"
        },
        "id": "95zD5zUHvne9",
        "outputId": "4b46a439-2dfa-41ba-e0c2-c50f957e5bf8"
      },
      "source": [
        "rmdforest = RandomForestClassifier(n_estimators = 1000,\n",
        "                                   criterion = 'gini',\n",
        "                                   max_depth = 5)\n",
        "\n",
        "rmdforest.fit(x_train, y_train)"
      ],
      "execution_count": 64,
      "outputs": [
        {
          "output_type": "execute_result",
          "data": {
            "text/plain": [
              "RandomForestClassifier(bootstrap=True, ccp_alpha=0.0, class_weight=None,\n",
              "                       criterion='gini', max_depth=5, max_features='auto',\n",
              "                       max_leaf_nodes=None, max_samples=None,\n",
              "                       min_impurity_decrease=0.0, min_impurity_split=None,\n",
              "                       min_samples_leaf=1, min_samples_split=2,\n",
              "                       min_weight_fraction_leaf=0.0, n_estimators=1000,\n",
              "                       n_jobs=None, oob_score=False, random_state=None,\n",
              "                       verbose=0, warm_start=False)"
            ]
          },
          "metadata": {
            "tags": []
          },
          "execution_count": 64
        }
      ]
    },
    {
      "cell_type": "code",
      "metadata": {
        "id": "OwH21wwtyE5h"
      },
      "source": [
        "probabilidade = rmdforest.predict_proba(dados.drop('target', axis=1))[:,1]\n",
        "classificacao = rmdforest.predict(dados.drop('target', axis=1))"
      ],
      "execution_count": 65,
      "outputs": []
    },
    {
      "cell_type": "code",
      "metadata": {
        "id": "VsJlk4sBy1Ya"
      },
      "source": [
        "dados['probabilidade'] = probabilidade\n",
        "dados['classificacao'] = classificacao"
      ],
      "execution_count": 66,
      "outputs": []
    },
    {
      "cell_type": "code",
      "metadata": {
        "colab": {
          "base_uri": "https://localhost:8080/",
          "height": 506
        },
        "id": "RjdPO88WzOIe",
        "outputId": "c36ed76b-ae4b-41af-eb26-b44c8ce2bcb0"
      },
      "source": [
        "dados"
      ],
      "execution_count": 67,
      "outputs": [
        {
          "output_type": "execute_result",
          "data": {
            "text/html": [
              "<div>\n",
              "<style scoped>\n",
              "    .dataframe tbody tr th:only-of-type {\n",
              "        vertical-align: middle;\n",
              "    }\n",
              "\n",
              "    .dataframe tbody tr th {\n",
              "        vertical-align: top;\n",
              "    }\n",
              "\n",
              "    .dataframe thead th {\n",
              "        text-align: right;\n",
              "    }\n",
              "</style>\n",
              "<table border=\"1\" class=\"dataframe\">\n",
              "  <thead>\n",
              "    <tr style=\"text-align: right;\">\n",
              "      <th></th>\n",
              "      <th>target</th>\n",
              "      <th>Age</th>\n",
              "      <th>SibSp</th>\n",
              "      <th>Parch</th>\n",
              "      <th>Fare</th>\n",
              "      <th>Sex_F</th>\n",
              "      <th>Pclass_1</th>\n",
              "      <th>Pclass_2</th>\n",
              "      <th>Pclass_3</th>\n",
              "      <th>probabilidade</th>\n",
              "      <th>classificacao</th>\n",
              "    </tr>\n",
              "    <tr>\n",
              "      <th>PassengerId</th>\n",
              "      <th></th>\n",
              "      <th></th>\n",
              "      <th></th>\n",
              "      <th></th>\n",
              "      <th></th>\n",
              "      <th></th>\n",
              "      <th></th>\n",
              "      <th></th>\n",
              "      <th></th>\n",
              "      <th></th>\n",
              "      <th></th>\n",
              "    </tr>\n",
              "  </thead>\n",
              "  <tbody>\n",
              "    <tr>\n",
              "      <th>1</th>\n",
              "      <td>0</td>\n",
              "      <td>22.0</td>\n",
              "      <td>1</td>\n",
              "      <td>0</td>\n",
              "      <td>7.2500</td>\n",
              "      <td>0</td>\n",
              "      <td>0</td>\n",
              "      <td>0</td>\n",
              "      <td>1</td>\n",
              "      <td>0.125038</td>\n",
              "      <td>0</td>\n",
              "    </tr>\n",
              "    <tr>\n",
              "      <th>2</th>\n",
              "      <td>1</td>\n",
              "      <td>38.0</td>\n",
              "      <td>1</td>\n",
              "      <td>0</td>\n",
              "      <td>71.2833</td>\n",
              "      <td>1</td>\n",
              "      <td>1</td>\n",
              "      <td>0</td>\n",
              "      <td>0</td>\n",
              "      <td>0.933340</td>\n",
              "      <td>1</td>\n",
              "    </tr>\n",
              "    <tr>\n",
              "      <th>3</th>\n",
              "      <td>1</td>\n",
              "      <td>26.0</td>\n",
              "      <td>0</td>\n",
              "      <td>0</td>\n",
              "      <td>7.9250</td>\n",
              "      <td>1</td>\n",
              "      <td>0</td>\n",
              "      <td>0</td>\n",
              "      <td>1</td>\n",
              "      <td>0.436829</td>\n",
              "      <td>0</td>\n",
              "    </tr>\n",
              "    <tr>\n",
              "      <th>4</th>\n",
              "      <td>1</td>\n",
              "      <td>35.0</td>\n",
              "      <td>1</td>\n",
              "      <td>0</td>\n",
              "      <td>53.1000</td>\n",
              "      <td>1</td>\n",
              "      <td>1</td>\n",
              "      <td>0</td>\n",
              "      <td>0</td>\n",
              "      <td>0.916213</td>\n",
              "      <td>1</td>\n",
              "    </tr>\n",
              "    <tr>\n",
              "      <th>5</th>\n",
              "      <td>0</td>\n",
              "      <td>35.0</td>\n",
              "      <td>0</td>\n",
              "      <td>0</td>\n",
              "      <td>8.0500</td>\n",
              "      <td>0</td>\n",
              "      <td>0</td>\n",
              "      <td>0</td>\n",
              "      <td>1</td>\n",
              "      <td>0.146522</td>\n",
              "      <td>0</td>\n",
              "    </tr>\n",
              "    <tr>\n",
              "      <th>...</th>\n",
              "      <td>...</td>\n",
              "      <td>...</td>\n",
              "      <td>...</td>\n",
              "      <td>...</td>\n",
              "      <td>...</td>\n",
              "      <td>...</td>\n",
              "      <td>...</td>\n",
              "      <td>...</td>\n",
              "      <td>...</td>\n",
              "      <td>...</td>\n",
              "      <td>...</td>\n",
              "    </tr>\n",
              "    <tr>\n",
              "      <th>887</th>\n",
              "      <td>0</td>\n",
              "      <td>27.0</td>\n",
              "      <td>0</td>\n",
              "      <td>0</td>\n",
              "      <td>13.0000</td>\n",
              "      <td>0</td>\n",
              "      <td>0</td>\n",
              "      <td>1</td>\n",
              "      <td>0</td>\n",
              "      <td>0.130488</td>\n",
              "      <td>0</td>\n",
              "    </tr>\n",
              "    <tr>\n",
              "      <th>888</th>\n",
              "      <td>1</td>\n",
              "      <td>19.0</td>\n",
              "      <td>0</td>\n",
              "      <td>0</td>\n",
              "      <td>30.0000</td>\n",
              "      <td>1</td>\n",
              "      <td>1</td>\n",
              "      <td>0</td>\n",
              "      <td>0</td>\n",
              "      <td>0.854446</td>\n",
              "      <td>1</td>\n",
              "    </tr>\n",
              "    <tr>\n",
              "      <th>889</th>\n",
              "      <td>0</td>\n",
              "      <td>0.0</td>\n",
              "      <td>1</td>\n",
              "      <td>2</td>\n",
              "      <td>23.4500</td>\n",
              "      <td>1</td>\n",
              "      <td>0</td>\n",
              "      <td>0</td>\n",
              "      <td>1</td>\n",
              "      <td>0.498579</td>\n",
              "      <td>0</td>\n",
              "    </tr>\n",
              "    <tr>\n",
              "      <th>890</th>\n",
              "      <td>1</td>\n",
              "      <td>26.0</td>\n",
              "      <td>0</td>\n",
              "      <td>0</td>\n",
              "      <td>30.0000</td>\n",
              "      <td>0</td>\n",
              "      <td>1</td>\n",
              "      <td>0</td>\n",
              "      <td>0</td>\n",
              "      <td>0.456862</td>\n",
              "      <td>0</td>\n",
              "    </tr>\n",
              "    <tr>\n",
              "      <th>891</th>\n",
              "      <td>0</td>\n",
              "      <td>32.0</td>\n",
              "      <td>0</td>\n",
              "      <td>0</td>\n",
              "      <td>7.7500</td>\n",
              "      <td>0</td>\n",
              "      <td>0</td>\n",
              "      <td>0</td>\n",
              "      <td>1</td>\n",
              "      <td>0.164005</td>\n",
              "      <td>0</td>\n",
              "    </tr>\n",
              "  </tbody>\n",
              "</table>\n",
              "<p>891 rows × 11 columns</p>\n",
              "</div>"
            ],
            "text/plain": [
              "             target   Age  SibSp  ...  Pclass_3  probabilidade  classificacao\n",
              "PassengerId                       ...                                        \n",
              "1                 0  22.0      1  ...         1       0.125038              0\n",
              "2                 1  38.0      1  ...         0       0.933340              1\n",
              "3                 1  26.0      0  ...         1       0.436829              0\n",
              "4                 1  35.0      1  ...         0       0.916213              1\n",
              "5                 0  35.0      0  ...         1       0.146522              0\n",
              "...             ...   ...    ...  ...       ...            ...            ...\n",
              "887               0  27.0      0  ...         0       0.130488              0\n",
              "888               1  19.0      0  ...         0       0.854446              1\n",
              "889               0   0.0      1  ...         1       0.498579              0\n",
              "890               1  26.0      0  ...         0       0.456862              0\n",
              "891               0  32.0      0  ...         1       0.164005              0\n",
              "\n",
              "[891 rows x 11 columns]"
            ]
          },
          "metadata": {
            "tags": []
          },
          "execution_count": 67
        }
      ]
    }
  ]
}